{
 "cells": [
  {
   "cell_type": "markdown",
   "metadata": {},
   "source": [
    "# Añadir el código necesario para crear una variable que guarde la velocidad del asteroide.\n",
    "# Escribe una expresión de prueba para calcular si necesita una advertencia.\n",
    "# Agregue las instrucciones que se ejecutarán si la expresión de prueba es true o false."
   ]
  },
  {
   "cell_type": "code",
   "execution_count": 13,
   "metadata": {},
   "outputs": [
    {
     "name": "stdout",
     "output_type": "stream",
     "text": [
      "¡Sigue con tu día!\n"
     ]
    }
   ],
   "source": [
    "asteroide = 49\n",
    "if asteroide < 25:\n",
    "    print('¡Alerta! ¡Un asteroide se acerca a velocidades peligrosas!')\n",
    "else:\n",
    "    print('¡Sigue con tu día!')"
   ]
  },
  {
   "cell_type": "markdown",
   "metadata": {},
   "source": [
    "# Agrega el código para crear una variable para un asteroide que viaja a 19 km/s\n",
    "# Escribe varias expresiones de prueba para determinar si puedes ver el rayo de luz desde la tierra\n",
    "# Agrega las instrucciones que se ejecutarán si las expresiones de prueba son True o False"
   ]
  },
  {
   "cell_type": "code",
   "execution_count": 26,
   "metadata": {},
   "outputs": [
    {
     "name": "stdout",
     "output_type": "stream",
     "text": [
      "¡Nada paso aqui!\n"
     ]
    }
   ],
   "source": [
    "asteroide = 19\n",
    "if  asteroide > 20:\n",
    "   print(\"¡Si puedes ver el rayo de luz desde la tierra!\")\n",
    "elif asteroide == 20:\n",
    "   print(\"¡Advertencia! Todo el mundo que deben buscar un asteroide en el cielo\")\n",
    "else:\n",
    "     print(\"¡Nada paso aqui!\")"
   ]
  },
  {
   "cell_type": "markdown",
   "metadata": {},
   "source": [
    "# Agrega el código para crear nuevas variables para la velocidad y el tamaño del asteroide\n",
    "# Para probar el código, prueba con varias velocidades y tamaños\n",
    "# Escribe varias expresiones de prueba o combinaciones de expresiones de prueba para determinar qué mensaje se debe enviar a Tierra."
   ]
  },
  {
   "cell_type": "code",
   "execution_count": 33,
   "metadata": {},
   "outputs": [
    {
     "name": "stdout",
     "output_type": "stream",
     "text": [
      "¡Si puedes ver el rayo de luz desde la tierra!\n"
     ]
    }
   ],
   "source": [
    "velocidad_asteroide = 25\n",
    "tamaño_asteroide = 35\n",
    "if  velocidad_asteroide > 25 and tamaño_asteroide > 20 :\n",
    "    print(\"¡Advertencia! La veocidad del asteroide va hacia la tierra\")\n",
    "elif velocidad_asteroide >=20:\n",
    "    print(\"¡Si puedes ver el rayo de luz desde la tierra!\")\n",
    "elif tamaño_asteroide < 25:\n",
    "    print(\"Nada paso por aqui\")\n",
    "else:\n",
    "    print(\"El asteroide cambio de curso y ya no se impactara con la tierra\")\n",
    "\n",
    "   \n",
    " \n"
   ]
  }
 ],
 "metadata": {
  "interpreter": {
   "hash": "d626cd180be84b262f27e0450b6222fcaa8a407b9d222f9e0787113f9918d095"
  },
  "kernelspec": {
   "display_name": "Python 3.10.2 64-bit",
   "language": "python",
   "name": "python3"
  },
  "language_info": {
   "codemirror_mode": {
    "name": "ipython",
    "version": 3
   },
   "file_extension": ".py",
   "mimetype": "text/x-python",
   "name": "python",
   "nbconvert_exporter": "python",
   "pygments_lexer": "ipython3",
   "version": "3.10.2"
  },
  "orig_nbformat": 4
 },
 "nbformat": 4,
 "nbformat_minor": 2
}
